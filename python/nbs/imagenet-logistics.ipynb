{
 "cells": [
  {
   "cell_type": "code",
   "execution_count": 69,
   "id": "41538053",
   "metadata": {},
   "outputs": [],
   "source": [
    "from nltk.corpus import wordnet as wn\n",
    "from collections import Counter, OrderedDict"
   ]
  },
  {
   "cell_type": "code",
   "execution_count": 1,
   "id": "d51def5e",
   "metadata": {},
   "outputs": [],
   "source": [
    "import os, random, shutil\n",
    "from tqdm.notebook import tqdm"
   ]
  },
  {
   "cell_type": "code",
   "execution_count": 25,
   "id": "db231587",
   "metadata": {},
   "outputs": [],
   "source": [
    "def rename_folders(path, f):\n",
    "    for folder in os.listdir(path):\n",
    "        if os.path.isdir(os.path.join(path, folder)):\n",
    "            worked, new_name = f(folder)\n",
    "            if not worked:\n",
    "                continue\n",
    "            os.rename(os.path.join(path, folder), os.path.join(path, new_name))"
   ]
  },
  {
   "cell_type": "code",
   "execution_count": 24,
   "id": "f24398d9",
   "metadata": {},
   "outputs": [],
   "source": [
    "def folder_rename(fname):\n",
    "    pos, offset_str = fname[0], fname[1:]\n",
    "    if offset_str.isnumeric():\n",
    "        offset = int(offset_str)\n",
    "    else:\n",
    "        return False, None\n",
    "    return True, wn.synset_from_pos_and_offset(pos, offset).name().replace('.', '-').replace('/', '_')"
   ]
  },
  {
   "cell_type": "code",
   "execution_count": 14,
   "id": "c1798711",
   "metadata": {},
   "outputs": [
    {
     "data": {
      "text/plain": [
       "'organism-n-01'"
      ]
     },
     "execution_count": 14,
     "metadata": {},
     "output_type": "execute_result"
    }
   ],
   "source": [
    "folder_rename('n00004475')"
   ]
  },
  {
   "cell_type": "code",
   "execution_count": 32,
   "id": "8fa4089e",
   "metadata": {},
   "outputs": [],
   "source": [
    "rename_folders(\"/Volumes/Infinite Eye/imagenet\", folder_rename)"
   ]
  },
  {
   "cell_type": "code",
   "execution_count": 31,
   "id": "9af57c7b",
   "metadata": {},
   "outputs": [
    {
     "data": {
      "text/plain": [
       "7736"
      ]
     },
     "execution_count": 31,
     "metadata": {},
     "output_type": "execute_result"
    }
   ],
   "source": [
    "len(os.listdir(\"/Volumes/Infinite Eye/imagenet\"))"
   ]
  },
  {
   "cell_type": "code",
   "execution_count": 35,
   "id": "e73952d8",
   "metadata": {},
   "outputs": [],
   "source": [
    "def count_imagenet(dirs):\n",
    "    ims = []\n",
    "    for imdir in dirs:\n",
    "        for folder in os.listdir(os.path.join(imdir, \"imagenet\")):\n",
    "            fulldir = os.path.join(imdir, \"imagenet\", folder)\n",
    "            if os.path.isdir(fulldir):\n",
    "                ims.append(len(os.listdir(fulldir)))\n",
    "    return ims"
   ]
  },
  {
   "cell_type": "code",
   "execution_count": 36,
   "id": "f99b065e",
   "metadata": {},
   "outputs": [
    {
     "data": {
      "text/plain": [
       "14198356"
      ]
     },
     "execution_count": 36,
     "metadata": {},
     "output_type": "execute_result"
    }
   ],
   "source": [
    "imcounts = count_imagenet([\"/Volumes/Seer/Datasets\"])\n",
    "sum(imcounts)"
   ]
  },
  {
   "cell_type": "code",
   "execution_count": 42,
   "id": "33b8d14a",
   "metadata": {},
   "outputs": [
    {
     "data": {
      "text/plain": [
       "[2, 1]"
      ]
     },
     "execution_count": 42,
     "metadata": {},
     "output_type": "execute_result"
    }
   ],
   "source": [
    "a = [2]\n",
    "a += [1]\n",
    "a"
   ]
  },
  {
   "cell_type": "code",
   "execution_count": 75,
   "id": "4b277891",
   "metadata": {},
   "outputs": [
    {
     "data": {
      "image/png": "[encoded data removed]",
      "text/plain": [
       "<Figure size 640x480 with 1 Axes>"
      ]
     },
     "metadata": {},
     "output_type": "display_data"
    }
   ],
   "source": [
    "import matplotlib.pyplot as plt\n",
    "\n",
    "plt.hist(imcounts, bins=50)\n",
    "plt.title('Histogram')\n",
    "plt.xlabel('Data')\n",
    "plt.ylabel('Frequency')\n",
    "\n",
    "plt.show()"
   ]
  },
  {
   "cell_type": "code",
   "execution_count": 127,
   "id": "5a23fa07",
   "metadata": {},
   "outputs": [],
   "source": [
    "def move_sample(src_dirs, dst_dir, n_per):\n",
    "    for imdir in src_dirs:\n",
    "        for folder in tqdm(os.listdir(os.path.join(imdir, \"imagenet\"))):\n",
    "            fulldir = os.path.join(imdir, \"imagenet\", folder)\n",
    "            if os.path.isdir(fulldir):\n",
    "                ims = os.listdir(fulldir)\n",
    "                n_ims = len(ims)\n",
    "                if n_ims == 0:\n",
    "                    continue\n",
    "                samples = random.sample(ims, min(n_ims, n_per))\n",
    "                os.mkdir(os.path.join(dst_dir, \"imagenet_sample\", folder))\n",
    "                for sample in samples:\n",
    "                    shutil.copy(os.path.join(fulldir, sample), os.path.join(dst_dir, \"imagenet_sample\", folder, sample))\n",
    "                    "
   ]
  },
  {
   "cell_type": "code",
   "execution_count": 128,
   "id": "54d4e02d",
   "metadata": {},
   "outputs": [
    {
     "data": {
      "application/vnd.jupyter.widget-view+json": {
       "model_id": "8f149da3c27e404b9a7484f2ba9b4bea",
       "version_major": 2,
       "version_minor": 0
      },
      "text/plain": [
       "  0%|          | 0/14106 [00:00<?, ?it/s]"
      ]
     },
     "metadata": {},
     "output_type": "display_data"
    },
    {
     "data": {
      "application/vnd.jupyter.widget-view+json": {
       "model_id": "66a0bbce275949a6b162ae0009da3d32",
       "version_major": 2,
       "version_minor": 0
      },
      "text/plain": [
       "  0%|          | 0/7736 [00:00<?, ?it/s]"
      ]
     },
     "metadata": {},
     "output_type": "display_data"
    }
   ],
   "source": [
    "move_sample([\"/Volumes/Rome\", \"/Volumes/Infinite Eye\"], \"/Volumes/Samsung_T3\", 5)"
   ]
  },
  {
   "cell_type": "code",
   "execution_count": 30,
   "id": "66de21f9",
   "metadata": {},
   "outputs": [],
   "source": [
    "def transfer_imagenet(src, dst):\n",
    "    for folder in tqdm(os.listdir(os.path.join(src, \"imagenet\"))):\n",
    "        if not os.path.isdir(os.path.join(src, \"imagenet\", folder)):\n",
    "            print(f\"skipped {folder}, not a directory\")\n",
    "            continue\n",
    "        try:\n",
    "            shutil.move(os.path.join(src, \"imagenet\", folder), os.path.join(dst, \"imagenet\"))\n",
    "        except Exception as e:\n",
    "            print(f\"{folder} had an issue: {e}\")"
   ]
  },
  {
   "cell_type": "code",
   "execution_count": 31,
   "id": "1338b635",
   "metadata": {},
   "outputs": [
    {
     "data": {
      "application/vnd.jupyter.widget-view+json": {
       "model_id": "5881a61cc7234adc8c6da53d3d9c23b9",
       "version_major": 2,
       "version_minor": 0
      },
      "text/plain": [
       "  0%|          | 0/4 [00:00<?, ?it/s]"
      ]
     },
     "metadata": {},
     "output_type": "display_data"
    },
    {
     "name": "stdout",
     "output_type": "stream",
     "text": [
      "skipped .DS_Store, not a directory\n"
     ]
    }
   ],
   "source": [
    "transfer_imagenet(\"/Volumes/Rome\", \"/Volumes/Seer/Datasets\")"
   ]
  },
  {
   "cell_type": "code",
   "execution_count": 32,
   "id": "26b981d4",
   "metadata": {},
   "outputs": [
    {
     "data": {
      "text/plain": [
       "1"
      ]
     },
     "execution_count": 32,
     "metadata": {},
     "output_type": "execute_result"
    }
   ],
   "source": [
    "len(os.listdir(\"/Volumes/Rome/imagenet\"))"
   ]
  },
  {
   "cell_type": "code",
   "execution_count": 33,
   "id": "6e423c76",
   "metadata": {},
   "outputs": [
    {
     "data": {
      "text/plain": [
       "[]"
      ]
     },
     "execution_count": 33,
     "metadata": {},
     "output_type": "execute_result"
    }
   ],
   "source": [
    "[\n",
    "    (\n",
    "        f,\n",
    "        len(\n",
    "            set(os.listdir(os.path.join(\"/Volumes/Rome/imagenet\", f)))\n",
    "            .intersection(os.listdir(os.path.join(\"/Volumes/Seer/Datasets/imagenet\", f)))\n",
    "        ), \n",
    "        len(os.listdir(os.path.join(\"/Volumes/Rome/imagenet\", f))),\n",
    "        len(os.listdir(os.path.join(\"/Volumes/Seer/Datasets/imagenet\", f)))\n",
    "    )\n",
    "    for f in os.listdir((\"/Volumes/Rome/imagenet\"))\n",
    "    if os.path.isdir(os.path.join(\"/Volumes/Rome/imagenet\", f))\n",
    "]"
   ]
  },
  {
   "cell_type": "code",
   "execution_count": 34,
   "id": "159ac823",
   "metadata": {},
   "outputs": [
    {
     "data": {
      "text/plain": [
       "21842"
      ]
     },
     "execution_count": 34,
     "metadata": {},
     "output_type": "execute_result"
    }
   ],
   "source": [
    "len(os.listdir(\"/Volumes/Seer/Datasets/imagenet\"))"
   ]
  },
  {
   "cell_type": "code",
   "execution_count": null,
   "id": "af3b01b9",
   "metadata": {},
   "outputs": [],
   "source": []
  }
 ],
 "metadata": {
  "kernelspec": {
   "display_name": "Python 3 (ipykernel)",
   "language": "python",
   "name": "python3"
  },
  "language_info": {
   "codemirror_mode": {
    "name": "ipython",
    "version": 3
   },
   "file_extension": ".py",
   "mimetype": "text/x-python",
   "name": "python",
   "nbconvert_exporter": "python",
   "pygments_lexer": "ipython3",
   "version": "3.10.6"
  }
 },
 "nbformat": 4,
 "nbformat_minor": 5
}
